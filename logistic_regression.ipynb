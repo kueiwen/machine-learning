{
 "cells": [
  {
   "cell_type": "markdown",
   "metadata": {},
   "source": [
    "# **Logistic Regression**"
   ]
  },
  {
   "cell_type": "markdown",
   "metadata": {},
   "source": [
    "Logistic regression is to find a best line not to be a regression model, but used for classification. \n",
    "The formula of the two are the same.\n",
    "\n",
    "<img src=\"img/regression.png\" width=\"400\"> <img src=\"img/logistic_regression.png\" width=\"420\">"
   ]
  },
  {
   "cell_type": "markdown",
   "metadata": {},
   "source": [
    "### **How to find logistic regression line?**\n",
    "\n",
    "<img src=\"img/logistic_regression_concept.png\" width=\"600\">\n",
    "\n",
    "The goal is to find a parameter sets that satisfy  \n",
    "\n",
    "$$\\sigma(f(x)) = \\begin{cases} 0 \\quad f(x) < 0 \\\\ 1 \\quad f(x) \\neq 0 \\end{cases} $$\n",
    "\n",
    "Here are two concept used: simoid function and Bernoulli distribution.\n",
    "\n",
    "#### **Sigmoid function**\n",
    "\n",
    "The reason to use sigmoid is that the above condition is too strict and it is usually wrong classified if $f(x)$ is closed to $0$. Following is the equation of sigmoid function and also an example plot, from the plot can see that there is a gray area near $0$.\n",
    "\n",
    "$$\\sigma(f(x)) = \\frac{1}{1+e^{-f(x)}}$$\n"
   ]
  },
  {
   "cell_type": "code",
   "execution_count": 3,
   "metadata": {},
   "outputs": [
    {
     "data": {
      "image/png": "[encoded data removed]",
      "text/plain": [
       "<Figure size 640x480 with 1 Axes>"
      ]
     },
     "metadata": {},
     "output_type": "display_data"
    }
   ],
   "source": [
    "import numpy as np\n",
    "import matplotlib.pyplot as plt\n",
    "\n",
    "x = np.linspace(-3, 3, 100)\n",
    "y = 1/(1 + np.exp(-5*x))\n",
    "plt.plot(x, y)\n",
    "plt.axvline(x = 0, color = 'r', linestyle = '--')\n",
    "plt.show()"
   ]
  },
  {
   "cell_type": "markdown",
   "metadata": {},
   "source": [
    "#### **Bernoulli Distribution**\n",
    "\n",
    "$$f(x)=p^{x}(1-p)^{(1-x)}=\\begin{cases}p \\quad\\quad\\;\\; if\\ x=1 \\\\ 1-p \\;\\;\\; if\\ x=0 \\end{cases}$$\n",
    "\n",
    "How does this eqution related to logistic regression? The output of logistic regression is the probabiliy of positive or negative.  \n",
    "Positive: $P(y=1|x)$\n",
    "Negative: $P(y=0|x) = 1 - P(y=1|x)$  \n",
    "which is the same as Bernoulli distribution.  \n",
    "\n",
    "Then we can use MLE (Maximum Likelihood Estimation) to approach the parameter of logistic regression.  \n",
    "\n",
    "$$L(\\beta) = \\prod_i^np_i^{y_i}(1-p_i)^{1-y_i}$$\n",
    "\n",
    "To implify to calculation, we will use log loss to represent to loss.\n",
    "\n",
    "$$\\cal{L}\\it(\\beta) = \\text(log)(\\prod_i^np_i^{y_i}(1-p_i)^{1-y_i})=-\\Sigma_i^n\\text{log}(p_i^{y_i}(1-p_i)^{1-y_i})$$\n",
    "$$=-\\Sigma_i^n(y_i\\text{log}p_i+(1-y_i)\\text{log}(1-p_i))=-\\Sigma_i^n(y_i\\text{log}(\\frac{p_i}{1-p_i})+\\text{log}(1-p_i))$$\n",
    "\n",
    "where $p_i=\\frac{1}{1+e^{-\\beta^Tx_i}}$\n",
    "\n",
    "$$\\text{log}(\\frac{p_i}{1-p_i})=\\text{log}(\\frac{\\frac{1}{1+e^{-\\beta^Tx_i}}}{1-\\frac{1}{1+e^{-\\beta^Tx_i}}})=\\text{log}e^{\\beta^Tx_i}=\\beta^Tx_i$$\n",
    "\n",
    "$$\\text{log}(1-p_i) = \\text{log}(1-\\frac{1}{1+e^{-\\beta^Tx_i}})=-\\text{log}(1+e^{\\beta^Tx_i})$$"
   ]
  },
  {
   "cell_type": "markdown",
   "metadata": {},
   "source": [
    "So we can more simplify the loss function as,\n",
    "\n",
    "$$\\cal{L}\\it(\\beta)=-\\Sigma_i^n\\lbrace y_i\\beta^Tx_i-\\text{log}(1+e^{\\beta^Tx_i})\\rbrace=\\Sigma_i^n\\lbrace\\text{log}(1+e^{\\beta^Tx_i})-y_i\\beta^Tx_i\\rbrace$$"
   ]
  },
  {
   "cell_type": "markdown",
   "metadata": {},
   "source": [
    "With loss function, we can get derivate with repect to $\\beta$ which is the value to update.\n",
    "\n",
    "$$\\frac{\\partial{\\cal{L}\\it(\\beta)}}{\\partial{\\beta}}=\\frac{\\partial{\\Sigma_i^n(\\text{log}(1+e^{\\beta^Tx_i})-y_i\\beta^Tx_i)}}{\\partial{\\beta}}$$\n",
    "$$=\\Sigma_i^n\\lbrace\\frac{1}{1+e^{\\beta^Tx_i}}\\times\\frac{\\partial{(1+e^{\\beta^Tx_i})}}{\\partial{\\beta}}-y_ix_i\\rbrace=\\Sigma_i^n\\lbrace\\frac{e^{\\beta^Tx_i}}{(1+e^{\\beta^Tx_i})}x_i-y_ix_i\\rbrace$$\n",
    "$$=\\Sigma_i^n\\lbrace p_ix_i-y_ix_i\\rbrace=\\Sigma_i^n\\lbrace (p_i-y_i)x_i\\rbrace$$"
   ]
  },
  {
   "cell_type": "markdown",
   "metadata": {},
   "source": [
    "$$\\beta^{(t+1)}=\\beta^{(t)}+\\gamma\\Sigma_i^n\\lbrace (p_i-y_i)x_i\\rbrace$$"
   ]
  },
  {
   "cell_type": "code",
   "execution_count": null,
   "metadata": {},
   "outputs": [],
   "source": [
    "class LogisticRegression:\n",
    "    def __init__(self, lr: float=0.01, epochs: int=1000, fit_intercept: bool=False, verbose: bool=True):\n",
    "        \"\"\"\n",
    "        Args:\n",
    "            lr (float): learning rate\n",
    "            epochs (int): number of epochs\n",
    "            fit_intercept (bool): whether to fit an intercept term in addition to the coefficients\n",
    "            verbose (bool): whether to output loss after each epoch\n",
    "        \"\"\"\n",
    "        self.lr = lr\n",
    "        self.epochs = epochs\n",
    "        self.fit_intercept = fit_intercept\n",
    "        self.verbose = verbose\n",
    "\n",
    "    def add_intercept(self, X: np.array) -> np.array:\n",
    "        \"\"\"Add intercept to the input data\n",
    "        Args:\n",
    "            X (np.array): input data\n",
    "        Returns:\n",
    "            np.array: input data with intercept\n",
    "        \"\"\"\n",
    "        intercept = np.ones((X.shape[0], 1))\n",
    "        return np.concatenate((intercept, X), axis=1)\n",
    "    \n",
    "    def sigmoid(self, z: np.array) -> np.array:\n",
    "        \"\"\"Calculate the sigmoid function\n",
    "        Args:\n",
    "            z (np.array): input data\n",
    "        Returns:\n",
    "            np.array: sigmoid of the input data\n",
    "        \"\"\"\n",
    "        return 1 / (1 + np.exp(-z) + 1e-10)\n",
    "    \n",
    "    def loss(self, h: np.array, y: np.array) -> float:\n",
    "        \"\"\"Calculate the loss function\n",
    "        Args:\n",
    "            h (np.array): predicted output of sigmoid function\n",
    "            y (np.array): ground truth\n",
    "        Returns:\n",
    "            float: loss value\n",
    "        \"\"\"\n",
    "        return np.sum(np.log(1 + np.exp(h)) - y * h)\n",
    "    \n",
    "    def fit(self, X: np.array, y: np.array):\n",
    "        \"\"\"Fit the model\n",
    "        Args:\n",
    "            X (np.array): input data\n",
    "            y (np.array): ground truth\n",
    "        \"\"\"\n",
    "        if self.fit_intercept:\n",
    "            X = self.add_intercept(X)\n",
    "        \n",
    "        # weights initialization\n",
    "        self.theta = np.zeros(X.shape[1])\n",
    "        self.losses = []\n",
    "\n",
    "        for i in range(self.epochs):\n",
    "            z = np.dot(X, self.theta)  ##f(x)=B^TX\n",
    "            h = self.sigmoid(z)\n",
    "            gradient = np.dot(X.T, (h - y)) / y.size\n",
    "            self.theta -= self.lr * gradient\n",
    "            self.losses.append(self.loss(h, y))\n",
    "\n",
    "            if(self.verbose == True and i % 100 == 0):\n",
    "                print(f'loss: {self.loss(h, y)} \\t')\n",
    "\n",
    "    def predict_prob(self, X: np.array) -> np.array:\n",
    "        \"\"\"Predict the probability of the input data\n",
    "        Args:\n",
    "            X (np.array): input data\n",
    "        Returns:\n",
    "            np.array: predicted probability\n",
    "        \"\"\"\n",
    "        if self.fit_intercept:\n",
    "            X = self.add_intercept(X)\n",
    "\n",
    "        return self.sigmoid(np.dot(X, self.theta))\n",
    "\n",
    "    def predict(self, X: np.array, threshold: int=0.5) -> np.array:\n",
    "        \"\"\"Predict the class of the input data\n",
    "        Args:\n",
    "            X (np.array): input data\n",
    "            threshold (int): threshold for classification\n",
    "        Returns:\n",
    "            np.array: predicted class\n",
    "        \"\"\"\n",
    "        return self.predict_prob(X) >= threshold"
   ]
  },
  {
   "cell_type": "code",
   "execution_count": 18,
   "metadata": {},
   "outputs": [
    {
     "name": "stdout",
     "output_type": "stream",
     "text": [
      "loss: 300.2050278020181 \t\n",
      "loss: 315.3819671547751 \t\n",
      "loss: 238.5920845498651 \t\n",
      "loss: 237.9927630307683 \t\n",
      "loss: 240.59951687255423 \t\n",
      "loss: 229.42136346054838 \t\n",
      "loss: 229.95005011259508 \t\n",
      "loss: 231.95254518223751 \t\n",
      "loss: 232.57305145932983 \t\n",
      "loss: 231.43306301178194 \t\n"
     ]
    },
    {
     "name": "stderr",
     "output_type": "stream",
     "text": [
      "/var/folders/69/6ry3j72176v59y5slnc712gw0000gn/T/ipykernel_28746/3322667282.py:13: RuntimeWarning: overflow encountered in exp\n",
      "  return 1 / (1 + np.exp(-z) + 1e-10)\n"
     ]
    },
    {
     "name": "stdout",
     "output_type": "stream",
     "text": [
      "Accuracy: 95 %\n"
     ]
    },
    {
     "data": {
      "image/png": "[encoded data removed]",
      "text/plain": [
       "<Figure size 640x480 with 2 Axes>"
      ]
     },
     "metadata": {},
     "output_type": "display_data"
    }
   ],
   "source": [
    "from sklearn.datasets import load_breast_cancer\n",
    "from sklearn.model_selection import train_test_split\n",
    "from sklearn.metrics import confusion_matrix\n",
    "import seaborn as sns\n",
    "import numpy as np\n",
    "\n",
    "data = load_breast_cancer()\n",
    "X = data.data\n",
    "y = data.target\n",
    "\n",
    "X_train, X_test, y_train, y_test = train_test_split(X, y, test_size=0.2, random_state=42)\n",
    "\n",
    "lrg = LogisticRegression()\n",
    "lrg.fit(X_train, y_train)\n",
    "y_pred = lrg.predict(X_test)\n",
    "\n",
    "cm = confusion_matrix(y_test, y_pred)\n",
    "\n",
    "sns.heatmap(cm, annot=True, annot_kws={\"size\": 10})\n",
    "\n",
    "\n",
    "acc = np.sum(y_test==y_pred)/len(y_pred)\n",
    "print(\"Accuracy: {} %\".format(round(acc*100),2))"
   ]
  }
 ],
 "metadata": {
  "kernelspec": {
   "display_name": "rl_test",
   "language": "python",
   "name": "python3"
  },
  "language_info": {
   "codemirror_mode": {
    "name": "ipython",
    "version": 3
   },
   "file_extension": ".py",
   "mimetype": "text/x-python",
   "name": "python",
   "nbconvert_exporter": "python",
   "pygments_lexer": "ipython3",
   "version": "3.8.10"
  }
 },
 "nbformat": 4,
 "nbformat_minor": 2
}
