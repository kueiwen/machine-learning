{
 "cells": [
  {
   "cell_type": "markdown",
   "metadata": {},
   "source": [
    "# **Random Forest**"
   ]
  },
  {
   "cell_type": "markdown",
   "metadata": {},
   "source": [
    "Random Forest is a kind of ensemble learning. Ensemble learning is to aggregate the predictions of multiple models into one final prediction, whcih not only can get a higher prediction preformance, can also reduce overfitting. Here are 3 basic ensemble methods: Bagging, Boosting and Stacking, and Random Forest is make use of Bagging concept."
   ]
  },
  {
   "cell_type": "markdown",
   "metadata": {},
   "source": [
    "#### **Bagging**\n",
    "\n",
    "The concept of Bagging is to separate the data into several subsets, and train a decision tree model on each subset parallelly, then agreegate the prediction value by majority rule for classification problems and take average for regression problems.\n",
    "\n",
    "<img src=\"img/bagging.png\" width=\"600\">"
   ]
  },
  {
   "cell_type": "markdown",
   "metadata": {},
   "source": [
    "If combine the concept of Bagging and Decision Tree, the model is called Random Forest."
   ]
  },
  {
   "cell_type": "code",
   "execution_count": 3,
   "metadata": {},
   "outputs": [],
   "source": [
    "from scripts.models import DecisionTreeClassifier\n",
    "import random\n",
    "import numpy as np\n",
    "from statistics import mode\n",
    "\n",
    "class RandomForestClassifier:\n",
    "    def __init__(self, n_classifiers: int = 3, data_percentage = 0.5, criterion: str = 'entropy', max_depth: int = 6, min_samples_leaf: int = 1):\n",
    "        self.n_classifiers = n_classifiers\n",
    "        self.data_percentage = data_percentage\n",
    "        self.classifiers = [DecisionTreeClassifier(criterion, max_depth, min_samples_leaf) for _ in range(n_classifiers)]\n",
    "    \n",
    "    def fit(self, X: np.array, Y: np.array):\n",
    "        \"\"\"Build multiple decision trees for the given data\n",
    "        Args:\n",
    "            X (np.array): The input data\n",
    "            Y (np.array): The target labels\"\"\"\n",
    "        data_len = len(X)\n",
    "        idx = random.choices(list(range(data_len)),k=int(data_len*self.data_percentage))\n",
    "\n",
    "        for i in range(self.n_classifiers):\n",
    "            sub_X = X[idx]\n",
    "            sub_Y = Y[idx]\n",
    "            self.classifiers[i].fit(sub_X, sub_Y)\n",
    "\n",
    "    def predict(self, X: np.array) -> np.array:\n",
    "        \"\"\"Predict the labels for the given data\n",
    "        Args:\n",
    "            X (np.array): The input data\n",
    "        Returns:\n",
    "            np.array: The predicted labels\"\"\"\n",
    "        predictions = []\n",
    "        for x in X:\n",
    "            p = []\n",
    "            for c in self.classifiers:\n",
    "                node = c.tree\n",
    "                while node.left is not None and node.right is not None:\n",
    "                    if x[node.feature_idx] < node.feature_val:\n",
    "                        node = node.left\n",
    "                    else:\n",
    "                        node = node.right\n",
    "                p.append(np.argmax(node.label_probs))\n",
    "            predictions.append(mode(p))\n",
    "        return np.array(predictions)"
   ]
  },
  {
   "cell_type": "code",
   "execution_count": 4,
   "metadata": {},
   "outputs": [
    {
     "name": "stdout",
     "output_type": "stream",
     "text": [
      "Accuracy: 93 %\n"
     ]
    },
    {
     "data": {
      "image/png": "[encoded data removed]",
      "text/plain": [
       "<Figure size 640x480 with 2 Axes>"
      ]
     },
     "metadata": {},
     "output_type": "display_data"
    }
   ],
   "source": [
    "from sklearn import datasets\n",
    "from sklearn.model_selection import train_test_split\n",
    "from sklearn.metrics import confusion_matrix\n",
    "import seaborn as sns\n",
    "\n",
    "# load iris dataset\n",
    "iris = datasets.load_iris()\n",
    "X= np.array(iris.data)\n",
    "y = np.array(iris.target)\n",
    "\n",
    "# Split data into training and testing\n",
    "X_train, X_test, y_train, y_test = train_test_split(X, y, test_size=0.2, random_state=1)\n",
    "\n",
    "# Build up the decision tree classifier\n",
    "dt = RandomForestClassifier(max_depth = 3)\n",
    "dt.fit(X_train, y_train)\n",
    "\n",
    "# Predict on testing data\n",
    "y_pred = dt.predict(X_test)\n",
    "\n",
    "# Print out the result\n",
    "#dt.print_tree(dt.tree)\n",
    "\n",
    "cm = confusion_matrix(y_test, y_pred)\n",
    "\n",
    "sns.heatmap(cm, annot=True, annot_kws={\"size\": 10})\n",
    "\n",
    "\n",
    "acc = np.sum(y_test==y_pred)/len(y_pred)\n",
    "print(\"Accuracy: {} %\".format(round(acc*100),2))"
   ]
  },
  {
   "cell_type": "code",
   "execution_count": null,
   "metadata": {},
   "outputs": [],
   "source": []
  }
 ],
 "metadata": {
  "kernelspec": {
   "display_name": "Python 3",
   "language": "python",
   "name": "python3"
  },
  "language_info": {
   "codemirror_mode": {
    "name": "ipython",
    "version": 3
   },
   "file_extension": ".py",
   "mimetype": "text/x-python",
   "name": "python",
   "nbconvert_exporter": "python",
   "pygments_lexer": "ipython3",
   "version": "3.8.8"
  }
 },
 "nbformat": 4,
 "nbformat_minor": 2
}
