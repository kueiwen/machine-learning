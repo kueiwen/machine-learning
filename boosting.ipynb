{
 "cells": [
  {
   "cell_type": "markdown",
   "metadata": {},
   "source": [
    "# **Boosting**"
   ]
  },
  {
   "cell_type": "markdown",
   "metadata": {},
   "source": [
    "Same as bagging, boosting is also one of ensemble learning method. But differnt from bagging that building model parallelly, boosting sequentially builds the model and next model will more emphasize on the data wrong classified or with higher error.\n",
    "\n",
    "<img src=\"img/boosting.png\" width=\"600\">  "
   ]
  },
  {
   "cell_type": "markdown",
   "metadata": {},
   "source": [
    "### **Adaptive Boosting (AdaBoost)**\n",
    "\n",
    "Adaptive Boosting is a refind boosting, the way to update the wieghtage is to let the model's error rate to be $0.5$.\n",
    "\n",
    "For example, here are 5 data trained by a classifier and 1 data is wrong, so the error rate is $0.2$, if we would like to let the error rate to be $0.5$, then need to change to weightage of the data wrong classified as $0.5$, and other as $0.125$, so that the error rate will be $0.5$.\n",
    "\n",
    "<img src=\"img/adaboost_weightage.png\" width=\"600\">  "
   ]
  },
  {
   "cell_type": "markdown",
   "metadata": {},
   "source": [
    "#### **How to update the weightage?**\n",
    "\n",
    "Assumed that the original weightage of each data point is equal and defined as $w_1$, $f_1$ is first classfier.\n",
    "$$\\delta(f_1(x_i)\\ne y_i) = \\begin{cases} 1, \\quad f_1(x_i) \\ne y_i \\\\ 0, \\quad f_1(x_i) = y_i \\end{cases} $$\n",
    "\n",
    "then the error rate of $f_n$ can be expressed as,\n",
    "\n",
    "$$\\frac{\\Sigma_i w_1^i\\delta(f_1(x_i)\\ne y_i)}{\\Sigma_i w_1^i}$$\n",
    "\n",
    "when data wrong classified $\\delta(f_n(x_i)\\ne y_i), w_2^i\\leftarrow w_1^i \\times d_1 $  \n",
    "when data correctly classified $\\delta(f_n(x_i)= y_i), w_2^i\\leftarrow \\frac{w_1^i}{d_1} $\n",
    "\n",
    "so the next quesion is, how we get $d_i$?  \n",
    "By resolving the following equation\n",
    "\n",
    "$$\\frac{\\Sigma_i w_2^i\\delta(f_1(x_i)\\ne y_i)}{\\Sigma_i w_2^i} = 0.5$$\n",
    "$$\\frac{\\Sigma_{f_1(x_i)\\ne y_i} w_1^i\\times d_1}{\\Sigma_{f_1(x_i)\\ne y_i} w_1^i\\times d_1+\\Sigma_{f_1(x_i)=y_i} \\frac{w_1^i}{d_1}} = 0.5$$\n",
    "\n",
    "\n",
    "the final result is $d_1 = \\sqrt{\\frac{1-\\epsilon}{\\epsilon}}$, where $\\epsilon=\\frac{\\Sigma_i w_1^i\\delta(f_1(x_i)\\ne y_i)}{\\Sigma_i w_1^i}$,which is the error rate of the first classfier.\n"
   ]
  },
  {
   "cell_type": "markdown",
   "metadata": {},
   "source": [
    "#### **How to agrregate the prediction of all weak models?**\n",
    "\n",
    "Here we use *SAMME* (Stagewise Additive Modeling using a Multi-class Exponential loss) to give weighatge to the prediction of each weak model,\n",
    "\n",
    "$$SAMME=\\text{log}(\\frac{1-error}{error})+\\text{log}(n-1)$$\n",
    "\n",
    "where $n$ is label count."
   ]
  },
  {
   "cell_type": "code",
   "execution_count": null,
   "metadata": {},
   "outputs": [],
   "source": [
    "# Load libraries\n",
    "from sklearn import datasets\n",
    "from sklearn.model_selection import train_test_split\n",
    "from sklearn.metrics import confusion_matrix\n",
    "import seaborn as sns\n",
    "import numpy as np\n",
    "import math\n",
    "\n",
    "from scripts.models import DecisionTreeClassifier\n",
    "\n",
    "\n",
    "class AdaBoostClassifier:\n",
    "    def __init__(self, n_learners: int = 8, sample_percentage: float = 0.8):\n",
    "        \"\"\"\n",
    "        Args:\n",
    "            n_learners (int): number of decision trees\n",
    "            sample_percentage (float): percentage of data to be used to train each tree\n",
    "        \"\"\"\n",
    "        self.n_learners = n_learners\n",
    "        self.sample_percentage = sample_percentage\n",
    "\n",
    "    def update_weightage(self):\n",
    "        \"\"\"Update the weightage of the samples according to the error rate of the learner\"\"\"\n",
    "        y_pred = self.learner.predict(self.X)\n",
    "        error = np.sum(self.weights * (y_pred != self.y))\n",
    "        self.amount_of_say.append(math.log((1 - error) / error)+math.log(self.label_count-1))\n",
    "        d = math.sqrt((1 - error) / error)\n",
    "        self.weights[y_pred != self.y] *= d\n",
    "        self.weights[y_pred == self.y] /= d\n",
    "        self.weights /= np.sum(self.weights)\n",
    "\n",
    "    def update_train_data(self):\n",
    "        \"\"\"Update the training data according to the wieghtage and sample percentage\"\"\"\n",
    "        n_samples = self.X.shape[0]\n",
    "        sample_size = int(n_samples * self.sample_percentage)\n",
    "        idx = np.random.choice(n_samples, size=sample_size, replace=True, p=self.weights)\n",
    "        return self.X[idx], self.y[idx]\n",
    "        \n",
    "    def fit(self, X: np.array, y: np.array):\n",
    "        \"\"\"Build the AdaBoost model\n",
    "        Args:\n",
    "            X: np.array: feature matrix\n",
    "            y: np.array: target vector\n",
    "        \"\"\"\n",
    "        self.X = X\n",
    "        self.y = y\n",
    "        X_sampled = X\n",
    "        y_sampled = y\n",
    "        self.n_samples = len(y)\n",
    "        self.label_count = len(np.unique(y))\n",
    "        self.weights = np.ones(self.n_samples) / self.n_samples\n",
    "        self.learners = []\n",
    "        self.amount_of_say = []\n",
    "\n",
    "        for i in range(self.n_learners):\n",
    "            self.learner = DecisionTreeClassifier(max_depth=1)\n",
    "            self.learner.fit(X_sampled, y_sampled)\n",
    "            self.update_weightage()\n",
    "            X_sampled, y_sampled = self.update_train_data()\n",
    "            self.learners.append(self.learner)\n",
    "\n",
    "    def predict(self, X: np.array) -> np.array:\n",
    "        \"\"\"Predict the target vector\n",
    "        Args:\n",
    "            X: np.array: feature matrix\n",
    "        Returns:\n",
    "            np.array: predicted target vector\n",
    "        \"\"\"\n",
    "        pred_scores = np.zeros(shape=(self.n_learners, X.shape[0], self.label_count))\n",
    "        for idx, learner in enumerate(self.learners):\n",
    "            pred_prob = learner.get_pred_prob(X)\n",
    "            pred_scores[idx] = np.array(pred_prob)*self.amount_of_say[idx]\n",
    "        avg_pred_scores = np.mean(pred_scores, axis=0)\n",
    "        return np.argmax(avg_pred_scores, axis=1)\n",
    "    "
   ]
  },
  {
   "cell_type": "code",
   "execution_count": 2,
   "metadata": {},
   "outputs": [
    {
     "name": "stdout",
     "output_type": "stream",
     "text": [
      "Accuracy: 93 %\n"
     ]
    },
    {
     "data": {
      "image/png": "[encoded data removed]",
      "text/plain": [
       "<Figure size 640x480 with 2 Axes>"
      ]
     },
     "metadata": {},
     "output_type": "display_data"
    }
   ],
   "source": [
    "# load iris dataset\n",
    "iris = datasets.load_iris()\n",
    "X=np.array(iris.data)\n",
    "y = np.array(iris.target)\n",
    "\n",
    "# Split data into training and testing\n",
    "X_train, X_test, y_train, y_test = train_test_split(X, y, test_size=0.2, random_state=1)\n",
    "\n",
    "# Build up the decision tree classifier\n",
    "abc = AdaBoostClassifier()\n",
    "abc.fit(X_train, y_train)\n",
    "\n",
    "# Predict on testing data\n",
    "y_pred = abc.predict(X_test)\n",
    "\n",
    "\n",
    "cm = confusion_matrix(y_test, y_pred)\n",
    "\n",
    "sns.heatmap(cm, annot=True, annot_kws={\"size\": 10})\n",
    "\n",
    "\n",
    "acc = np.sum(y_test==y_pred)/len(y_pred)\n",
    "print(\"Accuracy: {} %\".format(round(acc*100),2))"
   ]
  },
  {
   "cell_type": "markdown",
   "metadata": {},
   "source": [
    "### Gradient Boost"
   ]
  },
  {
   "cell_type": "markdown",
   "metadata": {},
   "source": [
    "Gredient boosting is ideated from gradient descent. Gradient descent update the parameters with the hint of devirate values, and grdient boosting is to predict on gradient and continually update $y$ value by predicted gradient.\n",
    "\n",
    "$$Gradient_i = y_i - y_i^{pred}$$"
   ]
  },
  {
   "cell_type": "code",
   "execution_count": null,
   "metadata": {},
   "outputs": [],
   "source": [
    "import pandas as pd\n",
    "import seaborn as sns\n",
    "from scripts.models import DecisionTreeRegressor\n",
    "\n",
    "class GradientBoostingRegressor:\n",
    "    def __init__(self, epochs: int=100, learning_rate: float=0.1):\n",
    "        \"\"\"\n",
    "        Args:\n",
    "            epochs (int): number of epochs\n",
    "            learning_rate (float): learning rate\n",
    "        \"\"\"\n",
    "        self.epochs = epochs\n",
    "        self.learning_rate = learning_rate\n",
    "\n",
    "    def calculate_grdient(self, y: np.array, y_pred: np.array) -> np.array:\n",
    "        \"\"\"Calculate the gradient of the loss function\n",
    "        Args:\n",
    "            y: np.array: target vector\n",
    "            y_pred: np.array: predicted target vector\n",
    "        Returns:\n",
    "            np.array: gradient of the loss function\n",
    "        \"\"\"\n",
    "        return -(y - y_pred)\n",
    "    \n",
    "    def calculate_loss(self, y: np.array, y_pred: np.array) -> float:\n",
    "        \"\"\"Calculate the loss function\n",
    "        Args:\n",
    "            y: np.array: target vector\n",
    "            y_pred: np.array: predicted target vector\n",
    "        Returns:\n",
    "            float: loss value\n",
    "        \"\"\"\n",
    "        return np.sqrt(np.mean((y - y_pred)**2))\n",
    "\n",
    "    def fit(self, X: np.array, y: np.array):\n",
    "        self.X = X\n",
    "        self.y = y\n",
    "        self.models = []\n",
    "        self.losses = []\n",
    "        y_pred = np.zeros(len(y)).reshape(-1, 1)*np.mean(y)\n",
    "        for _ in range(self.epochs):\n",
    "            if _ + 1 % 10 == 0:\n",
    "                print(\"Epoch: \", _, \"Loss: \", self.calculate_loss(y, y_pred))\n",
    "            residual = self.calculate_grdient(y, y_pred)\n",
    "            model = DecisionTreeRegressor(max_depth=1)\n",
    "            model.fit(X, residual)\n",
    "            m_pred = model.predict(X).reshape(-1,1)\n",
    "            y_pred -= self.learning_rate*m_pred\n",
    "            self.models.append(model)\n",
    "            self.losses.append(self.calculate_loss(y, y_pred))\n",
    "            if _ > 10:\n",
    "                if (self.losses[-2] - self.losses[-1]) < 0.001:\n",
    "                    print(\"Epoch: \", _, \"Loss: \", self.calculate_loss(y, y_pred))\n",
    "                    break\n",
    "\n",
    "    def predict(self, X: np.array) -> np.array:\n",
    "        \"\"\"Predict the target vector\n",
    "        Args:\n",
    "            X: np.array: feature matrix\n",
    "        Returns:\n",
    "            np.array: predicted target vector\n",
    "        \"\"\"\n",
    "        y_pred = np.zeros(len(X)).reshape(-1, 1)*np.mean(self.y)\n",
    "        for model in self.models:\n",
    "            y_pred -= self.learning_rate*model.predict(X).reshape(-1, 1)\n",
    "        return y_pred\n",
    "\n",
    "    def plot_loss(self):\n",
    "        \"\"\"Plot the loss function\"\"\"\n",
    "        df = pd.DataFrame({'epochs': range(1, len(self.losses)+1), 'losses': self.losses})\n",
    "        sns.set_theme()\n",
    "        sns.lineplot(x='epochs', y='losses', data=df)"
   ]
  },
  {
   "cell_type": "code",
   "execution_count": 4,
   "metadata": {},
   "outputs": [
    {
     "name": "stdout",
     "output_type": "stream",
     "text": [
      "Epoch:  49 Loss:  77.93804212263113\n",
      "RMSE:  73.1980762654574\n"
     ]
    },
    {
     "data": {
      "image/png": "[encoded data removed]",
      "text/plain": [
       "<Figure size 640x480 with 1 Axes>"
      ]
     },
     "metadata": {},
     "output_type": "display_data"
    }
   ],
   "source": [
    "from sklearn.datasets import load_diabetes\n",
    "\n",
    "diabate = load_diabetes()\n",
    "X = diabate.data\n",
    "y = diabate.target\n",
    "X_train, X_test, y_train, y_test = train_test_split(X, y, test_size=0.2, random_state=1)\n",
    "\n",
    "gb = GradientBoostingRegressor()\n",
    "\n",
    "gb.fit(X_train, y_train)\n",
    "\n",
    "gb.plot_loss()\n",
    "\n",
    "y_pred = gb.predict(X_test)\n",
    "\n",
    "print('RMSE: ', np.sqrt(np.mean((y_test - y_pred) ** 2 )))"
   ]
  },
  {
   "cell_type": "markdown",
   "metadata": {
    "vscode": {
     "languageId": "plaintext"
    }
   },
   "source": [
    "#### Reference\n",
    "https://chih-sheng-huang821.medium.com/機器學習-ensemble-learning之bagging-boosting和adaboost-af031229ebc3\n",
    "https://github.com/enesozeren/machine_learning_from_scratch/blob/main/decision_trees/adaboost.py\n",
    "https://github.com/srikhetramohanty/Data-Science-Portfolio/blob/main/ML%20From%20Scratch/Supervised%20ML%20From%20Scratch/Tree%20Family/gradient-boosting-from-scratch-regression.ipynb"
   ]
  },
  {
   "cell_type": "markdown",
   "metadata": {},
   "source": []
  }
 ],
 "metadata": {
  "kernelspec": {
   "display_name": "rl_test",
   "language": "python",
   "name": "python3"
  },
  "language_info": {
   "codemirror_mode": {
    "name": "ipython",
    "version": 3
   },
   "file_extension": ".py",
   "mimetype": "text/x-python",
   "name": "python",
   "nbconvert_exporter": "python",
   "pygments_lexer": "ipython3",
   "version": "3.8.10"
  }
 },
 "nbformat": 4,
 "nbformat_minor": 2
}
